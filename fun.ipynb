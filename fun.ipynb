{
 "cells": [
  {
   "cell_type": "code",
   "execution_count": null,
   "metadata": {},
   "outputs": [],
   "source": [
    "import json\n",
    "from pprint import pprint\n",
    "\n",
    "# task 1\n",
    "# posts_summary.json\n",
    "\n",
    "with open(\"./blog_post.json\", \"r\") as file:\n",
    "    blog_data = json.load(file)\n",
    "    print(blog_data, type(blog_data))\n",
    "\n",
    "\n",
    "def post_summary():\n",
    "    blog_posts_summary = [\n",
    "        {posts: post for posts, post in post.items() if posts != \"comments\"}\n",
    "        for post in blog_data[\"posts\"]\n",
    "    ]\n",
    "    return blog_posts_summary\n",
    "\n",
    "\n",
    "with open(\"posts_summary.json\", \"w\") as file:\n",
    "    extracted_posts = post_summary()\n",
    "    json.dump({\"posts\": extracted_posts}, file, indent=3)\n",
    "\n",
    "pprint(post_summary())"
   ]
  },
  {
   "cell_type": "code",
   "execution_count": 4,
   "metadata": {},
   "outputs": [
    {
     "name": "stdout",
     "output_type": "stream",
     "text": [
      "[{'author': 'Alice', 'number_of_comments': 2, 'title': 'The Future of AI'},\n",
      " {'author': 'Bob', 'number_of_comments': 1, 'title': 'Learning Python'},\n",
      " {'author': 'Charlie',\n",
      "  'number_of_comments': 0,\n",
      "  'title': 'Web Development Trends'}]\n"
     ]
    }
   ],
   "source": [
    "import json\n",
    "from pprint import pprint\n",
    "\n",
    "# task 1 - answer\n",
    "# posts_summary.json\n",
    "\n",
    "with open(\"./blog_post.json\", \"r\") as file:\n",
    "    blog_data = json.load(file)\n",
    "    # print(blog_data)\n",
    "    posts = blog_data[\"posts\"]\n",
    "    summarised_posts = []\n",
    "    for post in posts:\n",
    "        summarised_post = {\n",
    "            \"title\": post['title'],\n",
    "            \"author\": post[\"author\"],\n",
    "            \"number_of_comments\": len(post['comments'])\n",
    "        }   \n",
    "        summarised_posts.append(summarised_post)  \n",
    "    pprint(summarised_posts)\n",
    "\n",
    "    with open(\"posts_summary.json\", \"w\") as file:\n",
    "        json.dump(summarised_posts, file, indent=4)"
   ]
  }
 ],
 "metadata": {
  "kernelspec": {
   "display_name": "Python 3",
   "language": "python",
   "name": "python3"
  },
  "language_info": {
   "codemirror_mode": {
    "name": "ipython",
    "version": 3
   },
   "file_extension": ".py",
   "mimetype": "text/x-python",
   "name": "python",
   "nbconvert_exporter": "python",
   "pygments_lexer": "ipython3",
   "version": "3.10.8"
  }
 },
 "nbformat": 4,
 "nbformat_minor": 2
}
