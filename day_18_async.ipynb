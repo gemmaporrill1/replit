{
 "cells": [
  {
   "cell_type": "code",
   "execution_count": null,
   "metadata": {},
   "outputs": [],
   "source": [
    "%pip install requests"
   ]
  },
  {
   "cell_type": "code",
   "execution_count": null,
   "metadata": {},
   "outputs": [],
   "source": [
    "import requests\n",
    "import pandas as pd"
   ]
  },
  {
   "cell_type": "code",
   "execution_count": null,
   "metadata": {},
   "outputs": [],
   "source": [
    "url = \"https://restcountries.com/v3.1/all\"\n",
    "countries_response = requests.get(url, verify=False)\n",
    "# before json was xml\n",
    "countries = countries_response.json()\n",
    "type(countries)\n",
    "countries[0]"
   ]
  },
  {
   "cell_type": "code",
   "execution_count": null,
   "metadata": {},
   "outputs": [],
   "source": [
    "## task"
   ]
  },
  {
   "cell_type": "code",
   "execution_count": null,
   "metadata": {},
   "outputs": [],
   "source": [
    "# country_names = [country['name']['common'] for country in countries]\n",
    "# country_names\n",
    "\n",
    "# function\n",
    "def get_country_names(countries):\n",
    "    return [country['name']['common'] for country in countries]\n",
    "\n",
    "get_country_names(countries)"
   ]
  },
  {
   "cell_type": "code",
   "execution_count": null,
   "metadata": {},
   "outputs": [],
   "source": [
    "country_population = [(country['population'], country['name']) for country in countries if country['population'] > 10_000_000]\n",
    "country_population_sorted = sorted(country_population, reverse=True)\n",
    "country_population_sorted\n",
    "\n",
    "\n",
    "# answer\n",
    "country_population = [country for country in countries if country['population'] >= 10_000_000]\n",
    "top_sorted = sorted(country_population, key=lambda country: country['population'], reverse=True)\n",
    "get_country_names(top_sorted)\n"
   ]
  },
  {
   "cell_type": "code",
   "execution_count": null,
   "metadata": {},
   "outputs": [],
   "source": [
    "country_data = pd.DataFrame(countries)\n",
    "top_countries = country_data[country_data['population'] >= 10_000_000]\n",
    "countries_sorted = top_countries.sort_values(by='population', ascending=False)\n",
    "countries_sorted['name_common'] = [country['common'] for country in countries_sorted['name']]\n",
    "country_names = countries_sorted['name_common']\n",
    "print(list(country_names))"
   ]
  },
  {
   "cell_type": "code",
   "execution_count": null,
   "metadata": {},
   "outputs": [],
   "source": [
    "country_names_and_population = countries_sorted['name_common'] + \" - \" + countries_sorted['population'].astype(str).apply(lambda x: '{:,}'.format(int(x)))\n",
    "\n",
    "numbered_list = [f\"{order}. {country_info}\" for order, country_info in enumerate(country_names_and_population, start=1)]\n",
    "numbered_list"
   ]
  },
  {
   "cell_type": "code",
   "execution_count": null,
   "metadata": {},
   "outputs": [],
   "source": [
    "country_names_and_population = countries_sorted['name_common'] + \" - \" + countries_sorted['population'].astype(str).apply(lambda x: '{:,}'.format(int(x)))\n",
    "\n",
    "numbered_list = [f\"{order}. {country_info}\" for order, country_info in enumerate(country_names_and_population.head(10), start=1)]\n",
    "numbered_list"
   ]
  },
  {
   "cell_type": "code",
   "execution_count": null,
   "metadata": {},
   "outputs": [],
   "source": [
    "# task 2 \n",
    "\n",
    "from pprint import pprint\n",
    "\n",
    "TOKEN = \"604b93c64af04795b6993000241503\"\n",
    "\n",
    "def get_city_temp(city_name):\n",
    "    response = requests.get(f'http://api.weatherapi.com/v1/current.json?key={TOKEN}&q={city_name}&aqi=no')\n",
    "    weather_response = response.json()\n",
    "\n",
    "    return weather_response['location']['name'], weather_response['current']['temp_c']\n",
    "\n",
    "cities = [\"Cape Town\", \"Johannesburg\", \"Durban\"]\n",
    "city_temperatures = {}\n",
    "\n",
    "for city in cities:\n",
    "    city_name, temp_c = get_city_temp(city)\n",
    "    city_temperatures[city_name] = (temp_c)\n",
    "\n",
    "pprint(city_temperatures)\n",
    "\n",
    "\n",
    "# short answer\n",
    "{city: get_city_temp(city)[1] for city in cities}\n",
    "\n",
    "\n",
    "# list of tuples\n",
    "[get_city_temp(city) for city in cities]\n"
   ]
  },
  {
   "cell_type": "code",
   "execution_count": null,
   "metadata": {},
   "outputs": [],
   "source": [
    "# task 1 \n",
    "\n",
    "def get_temperature(city_name):\n",
    "    temperature_reports = []\n",
    "    temperature_reports.append(f\"The temperature in {city_name['location']['name']} is {city_name['current']['temp_c']}°C\")\n",
    "    return temperature_reports\n",
    "\n",
    "get_temperature(city_name)"
   ]
  },
  {
   "cell_type": "markdown",
   "metadata": {},
   "source": [
    "# Task 2\n",
    "Create a function which takes list of cities and provide the corresponding temperature in a dictionary\n",
    " \n",
    "```python\n",
    "cities = [\"Cape town\", \"Johannesburg\", \"Durban\"]\n",
    "```\n",
    " \n",
    " \n",
    "## Expected Output\n",
    "```python\n",
    "{\n",
    "\"Cape town\": 24,\n",
    "\"Johannesburg\": 25,\n",
    "\"Durban\": 18\n",
    "}\n",
    "```"
   ]
  },
  {
   "cell_type": "markdown",
   "metadata": {},
   "source": [
    "# Async \n",
    "- doing multiple requests/things at the same time \n",
    "\n",
    "# Threads\n",
    "- 1 thread works on one process which is when a program runs\n",
    "- process given an ID\n",
    " \n",
    "## Single vs Multi thread\n"
   ]
  }
 ],
 "metadata": {
  "kernelspec": {
   "display_name": "myenv",
   "language": "python",
   "name": "python3"
  },
  "language_info": {
   "codemirror_mode": {
    "name": "ipython",
    "version": 3
   },
   "file_extension": ".py",
   "mimetype": "text/x-python",
   "name": "python",
   "nbconvert_exporter": "python",
   "pygments_lexer": "ipython3",
   "version": "3.10.8"
  }
 },
 "nbformat": 4,
 "nbformat_minor": 2
}
