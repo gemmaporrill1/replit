{
 "cells": [
  {
   "cell_type": "markdown",
   "metadata": {},
   "source": [
    "# NumPy and Pandas\n",
    "- data analyst & data scientist \n",
    "## Data anlyst SQL\n",
    "- SQL\n",
    "- One shot query\n",
    "- programmers - MNC\n",
    "- power bi - charts\n",
    "\n",
    "## data scientists\n",
    "- excel\n",
    "- line by line (step)\n",
    "- python - numpy, pandas\n",
    "- open-source\n",
    "- scikit\n",
    "\n",
    "## numpy\n",
    "- pip install numpy\n"
   ]
  },
  {
   "cell_type": "code",
   "execution_count": null,
   "metadata": {},
   "outputs": [],
   "source": [
    "%pip install numpy"
   ]
  },
  {
   "cell_type": "markdown",
   "metadata": {},
   "source": [
    "## Numpy\n",
    "\n",
    "- good working with arrays\n",
    "- performant \n",
    "- C language\n",
    "- Statistical oriented - mean, mode, std"
   ]
  },
  {
   "cell_type": "code",
   "execution_count": 4,
   "metadata": {},
   "outputs": [],
   "source": [
    "import numpy as np \n",
    "# import line"
   ]
  },
  {
   "cell_type": "markdown",
   "metadata": {},
   "source": [
    "## short cuts\n",
    "- `ctrl+alt+enter` -> run the cell\n",
    "- `shift + enter` -> move to next cell"
   ]
  },
  {
   "cell_type": "code",
   "execution_count": null,
   "metadata": {},
   "outputs": [],
   "source": [
    "# creating an array\n",
    "import numpy as np\n",
    "\n",
    "marks = np.array([90, 80, 20, 40])\n",
    "\n",
    "marks_list = [90, 80, 20, 40]\n",
    "marks_list * 2\n",
    "marks * 2 # only last line will run with play button"
   ]
  },
  {
   "cell_type": "code",
   "execution_count": null,
   "metadata": {},
   "outputs": [],
   "source": [
    "dbl_marks = [marks * 2 for marks in marks_list]\n",
    "\n",
    "print(dbl_marks)"
   ]
  },
  {
   "cell_type": "code",
   "execution_count": null,
   "metadata": {},
   "outputs": [],
   "source": [
    "np.ones(200) # identity matrix | row \n",
    "np.zeros(100)"
   ]
  },
  {
   "cell_type": "code",
   "execution_count": null,
   "metadata": {},
   "outputs": [],
   "source": [
    "np.arange(10)\n",
    "np.arange(1, 10) # start, end value \n",
    "np.arange(1, 10, 2) # start, end, step\n"
   ]
  },
  {
   "cell_type": "code",
   "execution_count": null,
   "metadata": {},
   "outputs": [],
   "source": [
    "np.arange(10) > 5 # boolean output | like a loop "
   ]
  },
  {
   "cell_type": "markdown",
   "metadata": {},
   "source": [
    "## Operations\n",
    "- multiply, division, addition and subtraction\n",
    "- don't need a loop\n",
    "- filter using boolean matrix "
   ]
  },
  {
   "cell_type": "code",
   "execution_count": 64,
   "metadata": {},
   "outputs": [
    {
     "data": {
      "text/plain": [
       "array([0. , 0.5, 1. , 1.5, 2. , 2.5, 3. , 3.5, 4. , 4.5])"
      ]
     },
     "execution_count": 64,
     "metadata": {},
     "output_type": "execute_result"
    }
   ],
   "source": [
    "np.arange(10) * 2 # doubles the numbers\n",
    "np.arange(10) + 2\n",
    "np.arange(10) / 2\n",
    "np.arange(10) - 2\n"
   ]
  },
  {
   "cell_type": "code",
   "execution_count": null,
   "metadata": {},
   "outputs": [],
   "source": [
    "first_ten_nums = np.arange(1, 11)\n",
    "first_ten_nums[first_ten_nums > 5] # pass list of boolean to FILTER and give new list"
   ]
  },
  {
   "cell_type": "markdown",
   "metadata": {},
   "source": [
    "## Task 1\n",
    "Create a 1..200 numbers and provide a numpy array with all even numbers"
   ]
  },
  {
   "cell_type": "code",
   "execution_count": null,
   "metadata": {},
   "outputs": [],
   "source": [
    "nums = np.arange(0, 201, 2)\n",
    "nums"
   ]
  },
  {
   "cell_type": "markdown",
   "metadata": {},
   "source": [
    "## Task 2 \n",
    "Without the skip of arange"
   ]
  },
  {
   "cell_type": "code",
   "execution_count": null,
   "metadata": {},
   "outputs": [],
   "source": [
    "nums = np.arange(1, 201)\n",
    "nums[nums % 2 == 0]"
   ]
  },
  {
   "cell_type": "code",
   "execution_count": 5,
   "metadata": {},
   "outputs": [
    {
     "data": {
      "text/plain": [
       "[33, 40, 47, 22, 36, 36, 29, 31, 40, 25]"
      ]
     },
     "execution_count": 5,
     "metadata": {},
     "output_type": "execute_result"
    }
   ],
   "source": [
    "# random set of integers in a range and concert to list\n",
    "ages = np.random.randint(18, 60, 10) # start, end, how many\n",
    "ages\n",
    "ages_list = ages.tolist()\n",
    "ages_list"
   ]
  },
  {
   "cell_type": "markdown",
   "metadata": {},
   "source": [
    "## Performance\n",
    "- numpy arrays are 100 times the performance of python list\n",
    "- %%time"
   ]
  },
  {
   "cell_type": "code",
   "execution_count": 6,
   "metadata": {},
   "outputs": [
    {
     "name": "stdout",
     "output_type": "stream",
     "text": [
      "CPU times: total: 0 ns\n",
      "Wall time: 0 ns\n",
      "[66, 80, 94, 44, 72, 72, 58, 62, 80, 50]\n"
     ]
    }
   ],
   "source": [
    "%time\n",
    "\n",
    "double_ages = [age * 2 for age in ages_list]\n",
    "print(double_ages)"
   ]
  },
  {
   "cell_type": "markdown",
   "metadata": {},
   "source": [
    "## statistical oriented - mean, mode, std\n",
    "- mean -> average\n",
    "- mode -> most repeated number\n",
    "- median -> middle number in the increasing order"
   ]
  },
  {
   "cell_type": "code",
   "execution_count": 9,
   "metadata": {},
   "outputs": [
    {
     "name": "stdout",
     "output_type": "stream",
     "text": [
      "[73 58 53 64 40 88 80 94 95 99]\n",
      "74.4\n",
      "74.4\n"
     ]
    }
   ],
   "source": [
    "marks = np.random.randint(40, 100, 10)\n",
    "print(marks)\n",
    "print(marks.mean()) # getting the mean\n",
    "print(np.mean(marks))"
   ]
  },
  {
   "cell_type": "code",
   "execution_count": 10,
   "metadata": {},
   "outputs": [
    {
     "data": {
      "text/plain": [
       "76.5"
      ]
     },
     "execution_count": 10,
     "metadata": {},
     "output_type": "execute_result"
    }
   ],
   "source": [
    "np.median(marks) # finding the median"
   ]
  },
  {
   "cell_type": "code",
   "execution_count": 11,
   "metadata": {},
   "outputs": [
    {
     "data": {
      "text/plain": [
       "744"
      ]
     },
     "execution_count": 11,
     "metadata": {},
     "output_type": "execute_result"
    }
   ],
   "source": [
    "np.sum(marks) # sum for total"
   ]
  },
  {
   "cell_type": "markdown",
   "metadata": {},
   "source": [
    "## Task \n",
    "invested amount = 1000\n",
    "rate_of_interest = 0.05\n",
    "Two years, compound interest\n",
    "output = 1102.50\n",
    "10 years -> what happens"
   ]
  },
  {
   "cell_type": "code",
   "execution_count": 59,
   "metadata": {},
   "outputs": [
    {
     "name": "stdout",
     "output_type": "stream",
     "text": [
      "1050.0\n",
      "1102.5\n",
      "1157.63\n",
      "1215.51\n",
      "1276.28\n",
      "1340.1\n",
      "1407.1\n",
      "1477.46\n",
      "1551.33\n",
      "1628.89\n",
      "[1050.         1102.5        1157.625      1215.50625    1276.2815625\n",
      " 1340.09564063 1407.10042266 1477.45544379 1551.32821598 1628.89462678]\n"
     ]
    }
   ],
   "source": [
    "invested_amount = 1000\n",
    "rate_of_interest = 0.05\n",
    "years = np.arange(1, 11)\n",
    "\n",
    "# task 1\n",
    "\n",
    "for year in years:\n",
    "    investment_balance = 1000 * ((1 + rate_of_interest) ** year)\n",
    "    print(round(investment_balance,2))\n",
    "\n",
    "# task 1 using np\n",
    "years = np.arange(1,11)\n",
    "yearly_return = 1000 * 1.05 ** years\n",
    "print(yearly_return)\n",
    "\n"
   ]
  },
  {
   "cell_type": "code",
   "execution_count": 60,
   "metadata": {},
   "outputs": [
    {
     "name": "stdout",
     "output_type": "stream",
     "text": [
      "The final balance after 10 years is: 1628.89\n",
      "The final balance after 10 years is: 1628.89\n"
     ]
    }
   ],
   "source": [
    "# task 2 - slicing \n",
    "\n",
    "for year in years:\n",
    "    investment_balance = 1000 * ((1 + rate_of_interest) ** year)\n",
    "    if year == 10:\n",
    "        print(f\"The final balance after 10 years is: {round(investment_balance,2)}\")\n",
    "\n",
    "# task 2 using np\n",
    "years = np.arange(1,11)\n",
    "yearly_return = 1000 * 1.05 ** years\n",
    "tenth_year = yearly_return[-1]\n",
    "print(f\"The final balance after 10 years is: {round(tenth_year, 2)}\")"
   ]
  },
  {
   "cell_type": "code",
   "execution_count": 61,
   "metadata": {},
   "outputs": [
    {
     "name": "stdout",
     "output_type": "stream",
     "text": [
      "The amount has increased by 6.29%\n",
      "The amount has increased by 62.89%\n"
     ]
    }
   ],
   "source": [
    "# task 3 \n",
    "        \n",
    "for year in years:\n",
    "    investment_balance = 1000 * ((1 + rate_of_interest) ** year)\n",
    "    if year == 10:\n",
    "        final_year_diff = investment_balance - invested_amount\n",
    "        final_percentage = final_year_diff / 100\n",
    "        print(f\"The amount has increased by {round(final_percentage,2)}%\")\n",
    "\n",
    "# task 3 using np \n",
    "years = np.arange(1,11)\n",
    "yearly_return = 1000 * 1.05 ** years\n",
    "percentage_increase = ((tenth_year - invested_amount)/ invested_amount) * 100\n",
    "print(f\"The amount has increased by {round(percentage_increase, 2)}%\")"
   ]
  },
  {
   "cell_type": "markdown",
   "metadata": {},
   "source": [
    "## Useful methods\n",
    "- max, min - argmax, argmin\n",
    "- unique\n",
    "- string methods\n"
   ]
  },
  {
   "cell_type": "code",
   "execution_count": 66,
   "metadata": {},
   "outputs": [
    {
     "name": "stdout",
     "output_type": "stream",
     "text": [
      "[5105 1695 9125 1833 2402 2450 8897 2323 8609 3596]\n"
     ]
    },
    {
     "data": {
      "text/plain": [
       "9125"
      ]
     },
     "execution_count": 66,
     "metadata": {},
     "output_type": "execute_result"
    }
   ],
   "source": [
    "# max and min \n",
    "\n",
    "salaries = np.random.randint(1000, 10000, 10)\n",
    "print(salaries)\n"
   ]
  },
  {
   "cell_type": "code",
   "execution_count": 69,
   "metadata": {},
   "outputs": [
    {
     "name": "stdout",
     "output_type": "stream",
     "text": [
      "9125 2\n",
      "1695 1\n"
     ]
    }
   ],
   "source": [
    "print(np.max(salaries), np.argmax(salaries))\n",
    "print(np.min(salaries), np.argmin(salaries))"
   ]
  },
  {
   "cell_type": "code",
   "execution_count": 73,
   "metadata": {},
   "outputs": [
    {
     "data": {
      "text/plain": [
       "array([3, 3, 2, 1, 1, 1, 2, 3, 1, 1])"
      ]
     },
     "execution_count": 73,
     "metadata": {},
     "output_type": "execute_result"
    }
   ],
   "source": [
    "# unique\n",
    "\n",
    "nums = np.random.randint(1, 4, 10)\n",
    "nums"
   ]
  },
  {
   "cell_type": "code",
   "execution_count": 80,
   "metadata": {},
   "outputs": [
    {
     "name": "stdout",
     "output_type": "stream",
     "text": [
      "[1 2 3]\n"
     ]
    },
    {
     "data": {
      "text/plain": [
       "array([3, 2, 1])"
      ]
     },
     "execution_count": 80,
     "metadata": {},
     "output_type": "execute_result"
    }
   ],
   "source": [
    "print(np.unique(nums))\n",
    "\n",
    "uniq_nums = np.unique(nums)\n",
    "np.flip(uniq_nums) # reverses array"
   ]
  },
  {
   "cell_type": "code",
   "execution_count": 118,
   "metadata": {},
   "outputs": [
    {
     "name": "stdout",
     "output_type": "stream",
     "text": [
      "['apple' 'banana' 'blueberry' 'cucumber' 'grape' 'kiwi' 'lemon' 'mango'\n",
      " 'orange' 'pineapple' 'raspberry' 'tomato']\n"
     ]
    },
    {
     "data": {
      "text/plain": [
       "array(['apple', 'banana', 'blueberry', 'cucumber', 'grape', 'kiwi',\n",
       "       'lemon', 'mango', 'orange', 'pineapple', 'raspberry', 'tomato'],\n",
       "      dtype='<U10')"
      ]
     },
     "execution_count": 118,
     "metadata": {},
     "output_type": "execute_result"
    }
   ],
   "source": [
    "# string methods\n",
    "items = np.array([' Apple', 'banana ', 'GRAPE', 'cucumber', 'Pineapple', ' tomato ', 'Orange', ' lemon', 'Kiwi ', 'mango', 'blueberry ', ' raspberry'])\n",
    " \n",
    "# task 1 \n",
    "\n",
    "item_strip = np.char.strip(items)\n",
    "item_lower = np.char.lower(item_strip)\n",
    "final = np.unique(item_lower)\n",
    "print(final)\n",
    "\n",
    "np.unique(np.char.lower(np.char.strip(items)))\n"
   ]
  },
  {
   "cell_type": "code",
   "execution_count": 115,
   "metadata": {},
   "outputs": [
    {
     "data": {
      "text/plain": [
       "array(['banana', 'blueberry'], dtype='<U10')"
      ]
     },
     "execution_count": 115,
     "metadata": {},
     "output_type": "execute_result"
    }
   ],
   "source": [
    "# task 2\n",
    "# filtering operations\n",
    "# create boolean matrix \n",
    "\n",
    "final[np.char.startswith(final, 'b')]\n",
    "\n",
    "\n"
   ]
  },
  {
   "cell_type": "code",
   "execution_count": 120,
   "metadata": {},
   "outputs": [
    {
     "name": "stdout",
     "output_type": "stream",
     "text": [
      "['apple' 'cucumber' 'grape' 'lemon' 'orange' 'raspberry']\n"
     ]
    }
   ],
   "source": [
    "e_once = final[np.char.count(final, 'e') == 1]\n",
    "print(e_once)"
   ]
  },
  {
   "cell_type": "code",
   "execution_count": 131,
   "metadata": {},
   "outputs": [
    {
     "name": "stdout",
     "output_type": "stream",
     "text": [
      "Total visitors in the day: 2366\n",
      "Peak hour: 1\n",
      "Average visitors: 237 \n"
     ]
    }
   ],
   "source": [
    "# task 3 \n",
    "hourly_visitors = [468, 279, 73, 272, 406, 128, 302, 216, 140,82]\n",
    "\n",
    "array = np.array(hourly_visitors)\n",
    "\n",
    "daily = np.sum(array)\n",
    "print(f\"Total visitors in the day: {daily}\")\n",
    "\n",
    "peak_hour = np.argmax(array)\n",
    "print(f\"Peak hour: {peak_hour + 1}\")\n",
    "\n",
    "average_visitors = np.average(array)\n",
    "print(f\"Average visitors: {round(average_visitors)} \")"
   ]
  },
  {
   "cell_type": "markdown",
   "metadata": {},
   "source": [
    "## Multi dimensional array"
   ]
  },
  {
   "cell_type": "code",
   "execution_count": 134,
   "metadata": {},
   "outputs": [
    {
     "data": {
      "text/plain": [
       "(3, 3)"
      ]
     },
     "execution_count": 134,
     "metadata": {},
     "output_type": "execute_result"
    }
   ],
   "source": [
    "num_3D = np.array([[1, 3, 4],\n",
    "                  [6, 10, 7],\n",
    "                  [9, 20, 24]\n",
    "                  ])\n",
    "\n",
    "num_3D.shape # gives dimensions of array"
   ]
  },
  {
   "cell_type": "code",
   "execution_count": 137,
   "metadata": {},
   "outputs": [
    {
     "name": "stdout",
     "output_type": "stream",
     "text": [
      "[1 2 3 4 5 6 7 8 9]\n"
     ]
    },
    {
     "data": {
      "text/plain": [
       "array([[1, 2, 3],\n",
       "       [4, 5, 6],\n",
       "       [7, 8, 9]])"
      ]
     },
     "execution_count": 137,
     "metadata": {},
     "output_type": "execute_result"
    }
   ],
   "source": [
    "nums1 = np.arange(1,10)\n",
    "print(nums1)\n",
    "nums1.shape \n",
    "\n",
    "nums1.reshape(3,3) # changes matrix dimensions"
   ]
  },
  {
   "cell_type": "code",
   "execution_count": 138,
   "metadata": {},
   "outputs": [
    {
     "data": {
      "text/plain": [
       "45"
      ]
     },
     "execution_count": 138,
     "metadata": {},
     "output_type": "execute_result"
    }
   ],
   "source": [
    "# value method\n",
    "num_3x3 = nums1.reshape(3,3) \n",
    "np.sum(num_3x3)\n",
    "np.mean(num_3x3)"
   ]
  },
  {
   "cell_type": "markdown",
   "metadata": {},
   "source": [
    "## Axis\n",
    "- 0 is column \n",
    "- 1 is row"
   ]
  },
  {
   "cell_type": "code",
   "execution_count": 142,
   "metadata": {},
   "outputs": [
    {
     "data": {
      "text/plain": [
       "array([12, 15, 18])"
      ]
     },
     "execution_count": 142,
     "metadata": {},
     "output_type": "execute_result"
    }
   ],
   "source": [
    "# finding value across x or y axis\n",
    "np.sum(num_3x3, axis=0)\n"
   ]
  },
  {
   "cell_type": "code",
   "execution_count": 143,
   "metadata": {},
   "outputs": [
    {
     "data": {
      "text/plain": [
       "array([[ 2,  3,  4],\n",
       "       [ 5,  6,  7],\n",
       "       [ 8,  9, 10]])"
      ]
     },
     "execution_count": 143,
     "metadata": {},
     "output_type": "execute_result"
    }
   ],
   "source": [
    "num_3x3 + 1"
   ]
  },
  {
   "cell_type": "code",
   "execution_count": 149,
   "metadata": {},
   "outputs": [
    {
     "data": {
      "text/plain": [
       "array([47, 74, 47, 44, 47, 86, 40, 68, 74])"
      ]
     },
     "execution_count": 149,
     "metadata": {},
     "output_type": "execute_result"
    }
   ],
   "source": [
    "stats = np.random.randint(40, 100, 9)\n",
    "stats"
   ]
  },
  {
   "cell_type": "code",
   "execution_count": 150,
   "metadata": {},
   "outputs": [
    {
     "data": {
      "text/plain": [
       "array([[47, 74, 47],\n",
       "       [44, 47, 86],\n",
       "       [40, 68, 74]])"
      ]
     },
     "execution_count": 150,
     "metadata": {},
     "output_type": "execute_result"
    }
   ],
   "source": [
    "stats_3x3 = stats.reshape(3, 3)\n",
    "stats_3x3"
   ]
  },
  {
   "cell_type": "code",
   "execution_count": 179,
   "metadata": {},
   "outputs": [
    {
     "name": "stdout",
     "output_type": "stream",
     "text": [
      "[[23.5 24.  23. ]\n",
      " [21.  21.5 21.5]\n",
      " [25.5 25.5 25. ]]\n",
      "[23.33333333 20.33333333 25.        ] [23.66666667 22.33333333 25.66666667]\n",
      "[23.5        21.33333333 25.33333333]\n"
     ]
    }
   ],
   "source": [
    "# task - temperature monitor\n",
    "# find the average temp of every part of the room\n",
    "\n",
    "sensor1 = np.array([[23, 25, 22],\n",
    "                    [20, 21, 20],\n",
    "                    [26, 25, 24]])\n",
    " \n",
    "sensor2 = np.array([[24, 23, 24],\n",
    "                    [22, 22, 23],\n",
    "                    [25, 26, 26]])\n",
    "\n",
    "# task 1\n",
    "\n",
    "average_temp = (sensor1 + sensor2) / 2\n",
    "print(average_temp)\n",
    "\n",
    "# task 2 \n",
    "across_avg_1 = np.mean(sensor1, axis = 1)\n",
    "across_avg_2 = np.mean(sensor2, axis= 1)\n",
    "print(across_avg_1, across_avg_2)\n",
    "\n",
    "# task 3\n",
    "\n",
    "avg = (across_avg_1 + across_avg_2) / 2\n",
    "print(avg)\n",
    "\n",
    "\n"
   ]
  }
 ],
 "metadata": {
  "kernelspec": {
   "display_name": "myenv",
   "language": "python",
   "name": "python3"
  },
  "language_info": {
   "codemirror_mode": {
    "name": "ipython",
    "version": 3
   },
   "file_extension": ".py",
   "mimetype": "text/x-python",
   "name": "python",
   "nbconvert_exporter": "python",
   "pygments_lexer": "ipython3",
   "version": "3.10.8"
  }
 },
 "nbformat": 4,
 "nbformat_minor": 2
}
